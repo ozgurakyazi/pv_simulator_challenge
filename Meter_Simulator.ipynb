{
 "cells": [
  {
   "cell_type": "markdown",
   "metadata": {},
   "source": [
    "# Meter Simulator\n",
    "This notebook keeps generating values for a power meter, and sends them through a RabbitMQ channel with a frequency."
   ]
  },
  {
   "cell_type": "code",
   "execution_count": null,
   "metadata": {},
   "outputs": [],
   "source": [
    "%reload_ext autoreload\n",
    "%autoreload 2\n",
    "from meter import Meter ## Meter class\n",
    "import pika, time\n",
    "from datetime import datetime as dt, timedelta\n",
    "import shared_params as params"
   ]
  },
  {
   "cell_type": "markdown",
   "metadata": {},
   "source": [
    "## Setup Parameters\n",
    "Set the meter parameters"
   ]
  },
  {
   "cell_type": "code",
   "execution_count": null,
   "metadata": {},
   "outputs": [],
   "source": [
    "random_seed = None        # random seed for reproducible results\n",
    "meter_range = (0,9000)    # the range for the power meter."
   ]
  },
  {
   "cell_type": "markdown",
   "metadata": {},
   "source": [
    "## Start Meter\n",
    "\n",
    "Initialize Meter"
   ]
  },
  {
   "cell_type": "code",
   "execution_count": null,
   "metadata": {},
   "outputs": [],
   "source": [
    "meter = Meter( \n",
    "    random_seed=random_seed,\n",
    "    meter_range=meter_range\n",
    ")\n",
    "start_time = dt.now()\n",
    "## send file name to be saved to the \n",
    "file_name=str(start_time.year)+\"-\"+str(start_time.month)+\"-\"\\\n",
    "        +str(start_time.day)+\"-\"+str(start_time.hour) +\"-\"+str(start_time.minute)+\".csv\"\n",
    "meter.send_init(\n",
    "    file_name=file_name\n",
    ")\n",
    "print(\"File name to be saved:\",file_name)"
   ]
  },
  {
   "cell_type": "markdown",
   "metadata": {},
   "source": [
    "Determine the time frame to run, and start the reading and sending the values of the meter."
   ]
  },
  {
   "cell_type": "code",
   "execution_count": null,
   "metadata": {},
   "outputs": [],
   "source": [
    "now = start_time = dt.now()\n",
    "until = now +timedelta(minutes=1,days=0)\n",
    "\n",
    "while now < until:\n",
    "    meter.process_meter(now.strftime(params.datetime_format),0)\n",
    "    now = dt.now()\n",
    "    time.sleep(1.0 - (now - start_time).seconds % 1.0)\n",
    "meter.process_meter(now.strftime(params.datetime_format),1)"
   ]
  }
 ],
 "metadata": {
  "kernelspec": {
   "display_name": "Python37",
   "language": "python",
   "name": "python37"
  },
  "language_info": {
   "codemirror_mode": {
    "name": "ipython",
    "version": 3
   },
   "file_extension": ".py",
   "mimetype": "text/x-python",
   "name": "python",
   "nbconvert_exporter": "python",
   "pygments_lexer": "ipython3",
   "version": "3.7.5"
  }
 },
 "nbformat": 4,
 "nbformat_minor": 2
}
