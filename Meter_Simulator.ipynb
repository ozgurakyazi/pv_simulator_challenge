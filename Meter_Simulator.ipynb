{
 "cells": [
  {
   "cell_type": "markdown",
   "metadata": {},
   "source": [
    "# Meter Simulator\n",
    "This notebook keeps generating values for a power meter, and sends them through a RabbitMQ channel with a frequency."
   ]
  },
  {
   "cell_type": "code",
   "execution_count": null,
   "metadata": {},
   "outputs": [],
   "source": [
    "%reload_ext autoreload\n",
    "%autoreload 2\n",
    "from meter import Meter ## Meter class\n",
    "import pika, time\n",
    "from datetime import datetime as dt, timedelta\n",
    "import shared_params as params, pandas as pd"
   ]
  },
  {
   "cell_type": "markdown",
   "metadata": {},
   "source": [
    "### Setup Parameters\n",
    "Set the meter parameters"
   ]
  },
  {
   "cell_type": "code",
   "execution_count": null,
   "metadata": {},
   "outputs": [],
   "source": [
    "random_seed = None        # random seed for reproducible results\n",
    "meter_range = (0,9000)    # the range for the power meter."
   ]
  },
  {
   "cell_type": "markdown",
   "metadata": {},
   "source": [
    "## Meter Simulation\n",
    "The simulation is realized here. Note that, simulation is done real time, where 1 day of simulation takes 1 day to complete. For a quick simulation, see section [Quick Simulation](#quick_simulation).\n"
   ]
  },
  {
   "cell_type": "markdown",
   "metadata": {},
   "source": [
    "### Start Meter\n",
    "\n",
    "Initialize Meter"
   ]
  },
  {
   "cell_type": "code",
   "execution_count": null,
   "metadata": {},
   "outputs": [],
   "source": [
    "meter = Meter( \n",
    "    random_seed=random_seed,\n",
    "    meter_range=meter_range\n",
    ")\n",
    "start_time = dt.now()\n",
    "## send file name to be saved to the \n",
    "file_name=str(start_time.year)+\"-\"+str(start_time.month)+\"-\"\\\n",
    "        +str(start_time.day)+\"-\"+str(start_time.hour) +\"-\"+str(start_time.minute)+\".csv\"\n",
    "meter.send_init(\n",
    "    file_name=file_name\n",
    ")\n",
    "print(\"File name to be saved:\",file_name)"
   ]
  },
  {
   "cell_type": "markdown",
   "metadata": {},
   "source": [
    "### Start Simulation\n",
    "Determine the time frame to run, and start the reading and sending the values of the meter."
   ]
  },
  {
   "cell_type": "code",
   "execution_count": null,
   "metadata": {},
   "outputs": [],
   "source": [
    "now = start_time = dt.now()\n",
    "until = now +timedelta(minutes=1,days=0)\n",
    "\n",
    "while now < until:\n",
    "    meter.process_meter(now.strftime(params.datetime_format),0)\n",
    "    now = dt.now()\n",
    "    time.sleep(1.0 - (now - start_time).seconds % 1.0)\n",
    "meter.process_meter(now.strftime(params.datetime_format),1)"
   ]
  },
  {
   "cell_type": "markdown",
   "metadata": {},
   "source": [
    "## Quick Simulation\n",
    "<a id=\"quick_simulation\"></a>\n",
    "In this part, the simulation of one day is realized quickly, unlike the part above where you have to wait for the whole duration of simulation.\n",
    "### Initialize Meter"
   ]
  },
  {
   "cell_type": "code",
   "execution_count": null,
   "metadata": {},
   "outputs": [],
   "source": [
    "meter = Meter( \n",
    "    random_seed=random_seed,\n",
    "    meter_range=meter_range\n",
    ")\n",
    "start_time = dt.now()\n",
    "## send file name to be saved to the \n",
    "file_name=str(start_time.year)+\"-\"+str(start_time.month)+\"-\"\\\n",
    "        +str(start_time.day)+\"-\"+str(start_time.hour) +\"-\"+str(start_time.minute)+\".csv\"\n",
    "meter.send_init(\n",
    "    file_name=file_name\n",
    ")\n",
    "print(\"File name to be saved:\",file_name)"
   ]
  },
  {
   "cell_type": "markdown",
   "metadata": {},
   "source": [
    "### Start Quick Simulation\n",
    "Determine the range of simulation first."
   ]
  },
  {
   "cell_type": "code",
   "execution_count": null,
   "metadata": {},
   "outputs": [],
   "source": [
    "now = dt(2019,12,13,0,0,0)\n",
    "tomorrow = now +timedelta(hours=0, minutes=0,days=1)"
   ]
  },
  {
   "cell_type": "markdown",
   "metadata": {},
   "source": [
    "Create the timestamps for the application, the simulation is done in frequency of seconds"
   ]
  },
  {
   "cell_type": "code",
   "execution_count": null,
   "metadata": {},
   "outputs": [],
   "source": [
    "index = pd.date_range(start=now,end=tomorrow, freq=\"S\")"
   ]
  },
  {
   "cell_type": "markdown",
   "metadata": {},
   "source": [
    "Start it..."
   ]
  },
  {
   "cell_type": "code",
   "execution_count": null,
   "metadata": {},
   "outputs": [],
   "source": [
    "for ts in index:\n",
    "    meter.process_meter(ts.strftime(params.datetime_format),0)\n",
    "meter.process_meter(dt.now().strftime(params.datetime_format),1)"
   ]
  }
 ],
 "metadata": {
  "kernelspec": {
   "display_name": "Python37",
   "language": "python",
   "name": "python37"
  },
  "language_info": {
   "codemirror_mode": {
    "name": "ipython",
    "version": 3
   },
   "file_extension": ".py",
   "mimetype": "text/x-python",
   "name": "python",
   "nbconvert_exporter": "python",
   "pygments_lexer": "ipython3",
   "version": "3.7.5"
  }
 },
 "nbformat": 4,
 "nbformat_minor": 2
}
