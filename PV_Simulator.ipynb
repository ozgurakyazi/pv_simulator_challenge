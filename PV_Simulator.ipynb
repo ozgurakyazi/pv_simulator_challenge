{
 "cells": [
  {
   "cell_type": "markdown",
   "metadata": {},
   "source": [
    "# Photovoltaics (PV) Simulation\n",
    "Here the output from the Meter generator is grabbed and the simulated power value in the photovoltaics is read. At the end, it is saved in a file."
   ]
  },
  {
   "cell_type": "code",
   "execution_count": null,
   "metadata": {},
   "outputs": [],
   "source": [
    "%reload_ext autoreload\n",
    "%autoreload 2\n",
    "import numpy as np, pandas as pd\n",
    "import shared_params as params\n",
    "from photovoltaic import Photovoltaic as PV\n",
    "import matplotlib.pyplot as plt\n",
    "plt.style.use('ggplot')\n",
    "from datetime import datetime as dt, time\n",
    "### unnecc\n",
    "import json\n"
   ]
  },
  {
   "cell_type": "markdown",
   "metadata": {},
   "source": [
    "# Run Photovoltaic\n",
    "Initialize it, and then let it wait for the incoming messages."
   ]
  },
  {
   "cell_type": "code",
   "execution_count": null,
   "metadata": {},
   "outputs": [],
   "source": [
    "pv = PV()"
   ]
  },
  {
   "cell_type": "markdown",
   "metadata": {},
   "source": [
    "Start listening the queue for the messages coming from the Meter.\n",
    "\n",
    "**!!Note!!**:  Next line of the code is a blocking code, where the execution waits for the incoming messages through the channel. You need to interrupt it to end the waiting."
   ]
  },
  {
   "cell_type": "code",
   "execution_count": null,
   "metadata": {},
   "outputs": [],
   "source": [
    "pv.listen_queue()"
   ]
  },
  {
   "cell_type": "markdown",
   "metadata": {},
   "source": [
    "## Fast Simulation of PV\n",
    "Here, 1 day of PV values are generated, and visualized. \n",
    "Note that: this is only for illustration purposes\n",
    "\n",
    "### Define the DataFrame\n",
    "Definition is done with period 1 day, frequency 1 second."
   ]
  },
  {
   "cell_type": "code",
   "execution_count": null,
   "metadata": {},
   "outputs": [],
   "source": [
    "now = dt(2019,4,13,0,0,0)\n",
    "tomorrow = now +pd.Timedelta(\"1 days\")\n",
    "index = pd.date_range(start=now,end=tomorrow, freq=\"S\")\n",
    "columns=[\"Meter\", \"PV\"]\n",
    "df = pd.DataFrame(index=index, columns=columns)"
   ]
  },
  {
   "cell_type": "markdown",
   "metadata": {},
   "source": [
    "## Fill the Values"
   ]
  },
  {
   "cell_type": "code",
   "execution_count": null,
   "metadata": {},
   "outputs": [],
   "source": [
    "df[\"PV\"] = df.apply(lambda x: pv.read_value(x.name),axis=1)"
   ]
  },
  {
   "cell_type": "markdown",
   "metadata": {},
   "source": [
    "### Visualize"
   ]
  },
  {
   "cell_type": "code",
   "execution_count": null,
   "metadata": {},
   "outputs": [],
   "source": [
    "fig,ax = plt.subplots(figsize=(10,7))\n",
    "ax.plot(df.PV,color=\"blue\")\n",
    "ax.fill_between(df.index ,df.PV,0,alpha=0.2, color=\"blue\")\n",
    "plt.xticks(rotation=\"vertical\")"
   ]
  }
 ],
 "metadata": {
  "kernelspec": {
   "display_name": "Python37",
   "language": "python",
   "name": "python37"
  },
  "language_info": {
   "codemirror_mode": {
    "name": "ipython",
    "version": 3
   },
   "file_extension": ".py",
   "mimetype": "text/x-python",
   "name": "python",
   "nbconvert_exporter": "python",
   "pygments_lexer": "ipython3",
   "version": "3.7.5"
  }
 },
 "nbformat": 4,
 "nbformat_minor": 2
}
