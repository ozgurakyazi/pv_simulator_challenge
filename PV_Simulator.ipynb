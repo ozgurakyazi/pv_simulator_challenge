{
 "cells": [
  {
   "cell_type": "markdown",
   "metadata": {},
   "source": [
    "# Photovoltaics (PV) Simulation\n",
    "Here the output from the Meter generator is grabbed and the simulated power value in the photovoltaics is read. At the end, it is saved in a file."
   ]
  },
  {
   "cell_type": "code",
   "execution_count": null,
   "metadata": {},
   "outputs": [],
   "source": [
    "%reload_ext autoreload\n",
    "%autoreload 2\n",
    "import numpy as np, pandas as pd\n",
    "import shared_params as params\n",
    "from photovoltaic import Photovoltaic as PV\n",
    "import matplotlib.pyplot as plt\n",
    "plt.style.use('ggplot')\n",
    "from datetime import datetime as dt, time"
   ]
  },
  {
   "cell_type": "markdown",
   "metadata": {},
   "source": [
    "# Run Photovoltaic\n",
    "Initialize it, and then let it wait for the incoming messages."
   ]
  },
  {
   "cell_type": "code",
   "execution_count": null,
   "metadata": {},
   "outputs": [],
   "source": [
    "pv = PV()"
   ]
  },
  {
   "cell_type": "markdown",
   "metadata": {},
   "source": [
    "Start listening the queue for the messages coming from the Meter.\n",
    "\n",
    "**!!Note!!**:  Next line of the code is a blocking code, where the execution waits for the incoming messages through the channel. You need to interrupt it to end the waiting."
   ]
  },
  {
   "cell_type": "code",
   "execution_count": null,
   "metadata": {},
   "outputs": [],
   "source": [
    "pv.listen_queue()"
   ]
  },
  {
   "cell_type": "markdown",
   "metadata": {},
   "source": [
    "### Visualize\n",
    "Here the output of the simulation is visualized. \n",
    "\n",
    "Write the name of the csv file (which should be under the **data** folder) to the __output_file_name__ variable below. "
   ]
  },
  {
   "cell_type": "code",
   "execution_count": null,
   "metadata": {},
   "outputs": [],
   "source": [
    "output_file_name = \"2019-12-1-16-57.csv\"\n",
    "df = pd.read_csv(\n",
    "    \"./data/\"+output_file_name,index_col=0,\n",
    "    parse_dates=True,infer_datetime_format=True\n",
    ")\n",
    "fig,ax = plt.subplots(figsize=(10,7))\n",
    "ax.plot(df.PV,color=\"blue\",label=\"Photovoltaic\")\n",
    "ax.fill_between(df.index ,df.PV,0,alpha=0.2, color=\"blue\")\n",
    "\n",
    "ax.plot(df.Meter,color=\"green\", label=\"Meter\")\n",
    "ax.fill_between(df.index ,df.Meter,df.PV,alpha=0.2, color=\"green\")\n",
    "\n",
    "#ax.plot(df.Total,color=\"red\",label=\"Total\")\n",
    "#ax.fill_between(df.index ,df.Total,df.Meter,alpha=0.2, color=\"red\")\n",
    "\n",
    "\n",
    "ax.set_ylabel(\"Watts\")\n",
    "ax.set_xlabel(\"Time\")\n",
    "plt.title(\"Photovoltaic and Meter Simulation\")\n",
    "plt.legend(loc=\"upper right\")\n",
    "plt.xticks(rotation=\"vertical\")\n",
    "\n",
    "#plt.savefig(\"pv_and_meter.png\",bbox_inches=\"tight\")\n",
    "\n",
    "fig,ax = plt.subplots(figsize=(10,7))\n",
    "ax.plot(df.Total,color=\"red\",label=\"Meter + PV\")\n",
    "ax.fill_between(df.index ,df.Total,0,alpha=0.2, color=\"red\")\n",
    "\n",
    "plt.title(\"Photovoltaic + Meter\")\n",
    "plt.legend()\n",
    "ax.set_ylabel(\"Watts\")\n",
    "ax.set_xlabel(\"Time\")\n",
    "plt.xticks(rotation=\"vertical\")\n",
    "#plt.savefig(\"pv_plus_meter.png\",bbox_inches=\"tight\")"
   ]
  }
 ],
 "metadata": {
  "kernelspec": {
   "display_name": "Python37",
   "language": "python",
   "name": "python37"
  },
  "language_info": {
   "codemirror_mode": {
    "name": "ipython",
    "version": 3
   },
   "file_extension": ".py",
   "mimetype": "text/x-python",
   "name": "python",
   "nbconvert_exporter": "python",
   "pygments_lexer": "ipython3",
   "version": "3.7.5"
  }
 },
 "nbformat": 4,
 "nbformat_minor": 2
}
